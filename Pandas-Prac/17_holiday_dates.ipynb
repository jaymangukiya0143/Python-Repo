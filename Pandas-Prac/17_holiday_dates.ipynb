{
 "cells": [
  {
   "cell_type": "code",
   "execution_count": 37,
   "id": "77bae84d",
   "metadata": {},
   "outputs": [],
   "source": [
    "# Pandas Time Series Part-3 (Holidays)\n",
    "\n",
    "import pandas as pd"
   ]
  },
  {
   "cell_type": "code",
   "execution_count": 38,
   "id": "c7772bd8",
   "metadata": {
    "scrolled": true
   },
   "outputs": [
    {
     "data": {
      "text/html": [
       "<div>\n",
       "<style scoped>\n",
       "    .dataframe tbody tr th:only-of-type {\n",
       "        vertical-align: middle;\n",
       "    }\n",
       "\n",
       "    .dataframe tbody tr th {\n",
       "        vertical-align: top;\n",
       "    }\n",
       "\n",
       "    .dataframe thead th {\n",
       "        text-align: right;\n",
       "    }\n",
       "</style>\n",
       "<table border=\"1\" class=\"dataframe\">\n",
       "  <thead>\n",
       "    <tr style=\"text-align: right;\">\n",
       "      <th></th>\n",
       "      <th>Open</th>\n",
       "      <th>High</th>\n",
       "      <th>Low</th>\n",
       "      <th>Close</th>\n",
       "      <th>Volume</th>\n",
       "    </tr>\n",
       "  </thead>\n",
       "  <tbody>\n",
       "    <tr>\n",
       "      <th>0</th>\n",
       "      <td>144.88</td>\n",
       "      <td>145.30</td>\n",
       "      <td>143.10</td>\n",
       "      <td>143.50</td>\n",
       "      <td>14277848</td>\n",
       "    </tr>\n",
       "    <tr>\n",
       "      <th>1</th>\n",
       "      <td>143.69</td>\n",
       "      <td>144.79</td>\n",
       "      <td>142.72</td>\n",
       "      <td>144.09</td>\n",
       "      <td>21569557</td>\n",
       "    </tr>\n",
       "    <tr>\n",
       "      <th>2</th>\n",
       "      <td>143.02</td>\n",
       "      <td>143.50</td>\n",
       "      <td>142.41</td>\n",
       "      <td>142.73</td>\n",
       "      <td>24128782</td>\n",
       "    </tr>\n",
       "    <tr>\n",
       "      <th>3</th>\n",
       "      <td>142.90</td>\n",
       "      <td>144.75</td>\n",
       "      <td>142.90</td>\n",
       "      <td>144.18</td>\n",
       "      <td>19201712</td>\n",
       "    </tr>\n",
       "    <tr>\n",
       "      <th>4</th>\n",
       "      <td>144.11</td>\n",
       "      <td>145.95</td>\n",
       "      <td>143.37</td>\n",
       "      <td>145.06</td>\n",
       "      <td>21090636</td>\n",
       "    </tr>\n",
       "  </tbody>\n",
       "</table>\n",
       "</div>"
      ],
      "text/plain": [
       "     Open    High     Low   Close    Volume\n",
       "0  144.88  145.30  143.10  143.50  14277848\n",
       "1  143.69  144.79  142.72  144.09  21569557\n",
       "2  143.02  143.50  142.41  142.73  24128782\n",
       "3  142.90  144.75  142.90  144.18  19201712\n",
       "4  144.11  145.95  143.37  145.06  21090636"
      ]
     },
     "execution_count": 38,
     "metadata": {},
     "output_type": "execute_result"
    }
   ],
   "source": [
    "df = pd.read_csv('F:/Jay/Python/Code Basics Youtube/Pandas/17_aapl_no_dates.csv')\n",
    "df.head()"
   ]
  },
  {
   "cell_type": "code",
   "execution_count": 39,
   "id": "99565463",
   "metadata": {},
   "outputs": [
    {
     "data": {
      "text/plain": [
       "DatetimeIndex(['2017-07-03', '2017-07-04', '2017-07-05', '2017-07-06',\n",
       "               '2017-07-07', '2017-07-10', '2017-07-11', '2017-07-12',\n",
       "               '2017-07-13', '2017-07-14', '2017-07-17', '2017-07-18',\n",
       "               '2017-07-19', '2017-07-20', '2017-07-21'],\n",
       "              dtype='datetime64[ns]', freq='B')"
      ]
     },
     "execution_count": 39,
     "metadata": {},
     "output_type": "execute_result"
    }
   ],
   "source": [
    "pd.date_range(start='7/1/2017',end='7/21/2017', freq='B')"
   ]
  },
  {
   "cell_type": "code",
   "execution_count": 40,
   "id": "6424416d",
   "metadata": {},
   "outputs": [
    {
     "data": {
      "text/plain": [
       "<CustomBusinessDay>"
      ]
     },
     "execution_count": 40,
     "metadata": {},
     "output_type": "execute_result"
    }
   ],
   "source": [
    "from pandas.tseries.holiday import USFederalHolidayCalendar\n",
    "from pandas.tseries.offsets import CustomBusinessDay\n",
    "\n",
    "usb = CustomBusinessDay(calendar=USFederalHolidayCalendar())\n",
    "usb"
   ]
  },
  {
   "cell_type": "code",
   "execution_count": 41,
   "id": "426606b8",
   "metadata": {},
   "outputs": [
    {
     "data": {
      "text/plain": [
       "DatetimeIndex(['2017-08-01', '2017-08-02', '2017-08-03', '2017-08-04',\n",
       "               '2017-08-07', '2017-08-08', '2017-08-09', '2017-08-10',\n",
       "               '2017-08-11', '2017-08-14', '2017-08-15', '2017-08-16',\n",
       "               '2017-08-17', '2017-08-18'],\n",
       "              dtype='datetime64[ns]', freq='C')"
      ]
     },
     "execution_count": 41,
     "metadata": {},
     "output_type": "execute_result"
    }
   ],
   "source": [
    "rng = pd.date_range(start='8/1/2017',end='8/20/2017', freq=usb)\n",
    "rng"
   ]
  },
  {
   "cell_type": "code",
   "execution_count": 42,
   "id": "29fd013d",
   "metadata": {},
   "outputs": [
    {
     "data": {
      "text/html": [
       "<div>\n",
       "<style scoped>\n",
       "    .dataframe tbody tr th:only-of-type {\n",
       "        vertical-align: middle;\n",
       "    }\n",
       "\n",
       "    .dataframe tbody tr th {\n",
       "        vertical-align: top;\n",
       "    }\n",
       "\n",
       "    .dataframe thead th {\n",
       "        text-align: right;\n",
       "    }\n",
       "</style>\n",
       "<table border=\"1\" class=\"dataframe\">\n",
       "  <thead>\n",
       "    <tr style=\"text-align: right;\">\n",
       "      <th></th>\n",
       "      <th>Open</th>\n",
       "      <th>High</th>\n",
       "      <th>Low</th>\n",
       "      <th>Close</th>\n",
       "      <th>Volume</th>\n",
       "    </tr>\n",
       "  </thead>\n",
       "  <tbody>\n",
       "    <tr>\n",
       "      <th>2017-08-01</th>\n",
       "      <td>144.88</td>\n",
       "      <td>145.30</td>\n",
       "      <td>143.10</td>\n",
       "      <td>143.50</td>\n",
       "      <td>14277848</td>\n",
       "    </tr>\n",
       "    <tr>\n",
       "      <th>2017-08-02</th>\n",
       "      <td>143.69</td>\n",
       "      <td>144.79</td>\n",
       "      <td>142.72</td>\n",
       "      <td>144.09</td>\n",
       "      <td>21569557</td>\n",
       "    </tr>\n",
       "    <tr>\n",
       "      <th>2017-08-03</th>\n",
       "      <td>143.02</td>\n",
       "      <td>143.50</td>\n",
       "      <td>142.41</td>\n",
       "      <td>142.73</td>\n",
       "      <td>24128782</td>\n",
       "    </tr>\n",
       "    <tr>\n",
       "      <th>2017-08-04</th>\n",
       "      <td>142.90</td>\n",
       "      <td>144.75</td>\n",
       "      <td>142.90</td>\n",
       "      <td>144.18</td>\n",
       "      <td>19201712</td>\n",
       "    </tr>\n",
       "    <tr>\n",
       "      <th>2017-08-07</th>\n",
       "      <td>144.11</td>\n",
       "      <td>145.95</td>\n",
       "      <td>143.37</td>\n",
       "      <td>145.06</td>\n",
       "      <td>21090636</td>\n",
       "    </tr>\n",
       "    <tr>\n",
       "      <th>2017-08-08</th>\n",
       "      <td>144.73</td>\n",
       "      <td>145.85</td>\n",
       "      <td>144.38</td>\n",
       "      <td>145.53</td>\n",
       "      <td>19781836</td>\n",
       "    </tr>\n",
       "    <tr>\n",
       "      <th>2017-08-09</th>\n",
       "      <td>145.87</td>\n",
       "      <td>146.18</td>\n",
       "      <td>144.82</td>\n",
       "      <td>145.74</td>\n",
       "      <td>24884478</td>\n",
       "    </tr>\n",
       "    <tr>\n",
       "      <th>2017-08-10</th>\n",
       "      <td>145.50</td>\n",
       "      <td>148.49</td>\n",
       "      <td>145.44</td>\n",
       "      <td>147.77</td>\n",
       "      <td>25199373</td>\n",
       "    </tr>\n",
       "    <tr>\n",
       "      <th>2017-08-11</th>\n",
       "      <td>147.97</td>\n",
       "      <td>149.33</td>\n",
       "      <td>147.33</td>\n",
       "      <td>149.04</td>\n",
       "      <td>20132061</td>\n",
       "    </tr>\n",
       "    <tr>\n",
       "      <th>2017-08-14</th>\n",
       "      <td>148.82</td>\n",
       "      <td>150.90</td>\n",
       "      <td>148.57</td>\n",
       "      <td>149.56</td>\n",
       "      <td>23793456</td>\n",
       "    </tr>\n",
       "    <tr>\n",
       "      <th>2017-08-15</th>\n",
       "      <td>149.20</td>\n",
       "      <td>150.13</td>\n",
       "      <td>148.67</td>\n",
       "      <td>150.08</td>\n",
       "      <td>17868792</td>\n",
       "    </tr>\n",
       "    <tr>\n",
       "      <th>2017-08-16</th>\n",
       "      <td>150.48</td>\n",
       "      <td>151.42</td>\n",
       "      <td>149.95</td>\n",
       "      <td>151.02</td>\n",
       "      <td>20922969</td>\n",
       "    </tr>\n",
       "    <tr>\n",
       "      <th>2017-08-17</th>\n",
       "      <td>151.50</td>\n",
       "      <td>151.74</td>\n",
       "      <td>150.19</td>\n",
       "      <td>150.34</td>\n",
       "      <td>17243748</td>\n",
       "    </tr>\n",
       "    <tr>\n",
       "      <th>2017-08-18</th>\n",
       "      <td>149.99</td>\n",
       "      <td>150.44</td>\n",
       "      <td>148.88</td>\n",
       "      <td>150.27</td>\n",
       "      <td>26252630</td>\n",
       "    </tr>\n",
       "  </tbody>\n",
       "</table>\n",
       "</div>"
      ],
      "text/plain": [
       "              Open    High     Low   Close    Volume\n",
       "2017-08-01  144.88  145.30  143.10  143.50  14277848\n",
       "2017-08-02  143.69  144.79  142.72  144.09  21569557\n",
       "2017-08-03  143.02  143.50  142.41  142.73  24128782\n",
       "2017-08-04  142.90  144.75  142.90  144.18  19201712\n",
       "2017-08-07  144.11  145.95  143.37  145.06  21090636\n",
       "2017-08-08  144.73  145.85  144.38  145.53  19781836\n",
       "2017-08-09  145.87  146.18  144.82  145.74  24884478\n",
       "2017-08-10  145.50  148.49  145.44  147.77  25199373\n",
       "2017-08-11  147.97  149.33  147.33  149.04  20132061\n",
       "2017-08-14  148.82  150.90  148.57  149.56  23793456\n",
       "2017-08-15  149.20  150.13  148.67  150.08  17868792\n",
       "2017-08-16  150.48  151.42  149.95  151.02  20922969\n",
       "2017-08-17  151.50  151.74  150.19  150.34  17243748\n",
       "2017-08-18  149.99  150.44  148.88  150.27  26252630"
      ]
     },
     "execution_count": 42,
     "metadata": {},
     "output_type": "execute_result"
    }
   ],
   "source": [
    "df.set_index(rng, inplace=True)\n",
    "df"
   ]
  },
  {
   "cell_type": "code",
   "execution_count": 54,
   "id": "906da543",
   "metadata": {},
   "outputs": [
    {
     "data": {
      "text/plain": [
       "<CustomBusinessDay>"
      ]
     },
     "execution_count": 54,
     "metadata": {},
     "output_type": "execute_result"
    }
   ],
   "source": [
    "# Custom Calendar\n",
    "\n",
    "from pandas.tseries.holiday import AbstractHolidayCalendar, nearest_workday, Holiday\n",
    "\n",
    "class myBirthDayCalendar(AbstractHolidayCalendar):\n",
    "    rules = [\n",
    "        Holiday(\"Jay's Birthday\", month=8, day=4)\n",
    "    ]\n",
    "    \n",
    "myc = CustomBusinessDay(calendar=myBirthDayCalendar(), weekmask='Sun Mon Tue Wed Thu', holidays=[\"2017-07-07\"]) # Weekmask to change business days. for eg. in Egypt Sun to Thu are working days. holidays to give holidays o specific dates. \n",
    "myc"
   ]
  },
  {
   "cell_type": "code",
   "execution_count": 52,
   "id": "632144b3",
   "metadata": {},
   "outputs": [
    {
     "data": {
      "text/plain": [
       "DatetimeIndex(['2017-08-01', '2017-08-02', '2017-08-03', '2017-08-06',\n",
       "               '2017-08-07', '2017-08-08', '2017-08-09', '2017-08-10',\n",
       "               '2017-08-13', '2017-08-14', '2017-08-15', '2017-08-16',\n",
       "               '2017-08-17', '2017-08-20'],\n",
       "              dtype='datetime64[ns]', freq='C')"
      ]
     },
     "execution_count": 52,
     "metadata": {},
     "output_type": "execute_result"
    }
   ],
   "source": [
    "rng = pd.date_range(start='8/1/2017',end='8/20/2017', freq=myc)\n",
    "rng\n",
    "\n"
   ]
  }
 ],
 "metadata": {
  "kernelspec": {
   "display_name": "Python 3 (ipykernel)",
   "language": "python",
   "name": "python3"
  },
  "language_info": {
   "codemirror_mode": {
    "name": "ipython",
    "version": 3
   },
   "file_extension": ".py",
   "mimetype": "text/x-python",
   "name": "python",
   "nbconvert_exporter": "python",
   "pygments_lexer": "ipython3",
   "version": "3.9.7"
  }
 },
 "nbformat": 4,
 "nbformat_minor": 5
}
