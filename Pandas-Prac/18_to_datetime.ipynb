{
 "cells": [
  {
   "cell_type": "code",
   "execution_count": 1,
   "id": "6f6293db",
   "metadata": {},
   "outputs": [],
   "source": [
    "# Pandas Time Series Part-4 (using to_datetime() method)\n",
    "\n",
    "import pandas as pd"
   ]
  },
  {
   "cell_type": "code",
   "execution_count": 3,
   "id": "492a80d5",
   "metadata": {},
   "outputs": [
    {
     "data": {
      "text/plain": [
       "DatetimeIndex(['2017-01-05', '2017-01-05', '2017-01-05', '2017-01-05',\n",
       "               '2017-01-05', '2017-01-05'],\n",
       "              dtype='datetime64[ns]', freq=None)"
      ]
     },
     "execution_count": 3,
     "metadata": {},
     "output_type": "execute_result"
    }
   ],
   "source": [
    "dates = ['2017-01-05','Jan 5, 2017','01/05/2017','2017.01.05','2017/01/05','20170105']\n",
    "pd.to_datetime(dates)"
   ]
  },
  {
   "cell_type": "code",
   "execution_count": 6,
   "id": "d88214a5",
   "metadata": {},
   "outputs": [
    {
     "data": {
      "text/plain": [
       "DatetimeIndex(['2017-01-05 14:30:00', '2017-01-05 14:30:00',\n",
       "               '2017-01-05 00:00:00', '2017-01-05 00:00:00',\n",
       "               '2017-01-05 00:00:00', '2017-01-05 00:00:00'],\n",
       "              dtype='datetime64[ns]', freq=None)"
      ]
     },
     "execution_count": 6,
     "metadata": {},
     "output_type": "execute_result"
    }
   ],
   "source": [
    "dates = ['2017-01-05 02:30:00 PM','Jan 5, 2017 14:30:00','01/05/2017','2017.01.05','2017/01/05','20170105']\n",
    "pd.to_datetime(dates)"
   ]
  },
  {
   "cell_type": "code",
   "execution_count": 13,
   "id": "9a98e4e3",
   "metadata": {},
   "outputs": [
    {
     "data": {
      "text/plain": [
       "Timestamp('2017-01-05 00:00:00')"
      ]
     },
     "execution_count": 13,
     "metadata": {},
     "output_type": "execute_result"
    }
   ],
   "source": [
    "pd.to_datetime('5/1/2017', dayfirst=True)"
   ]
  },
  {
   "cell_type": "code",
   "execution_count": 17,
   "id": "0137bfaf",
   "metadata": {},
   "outputs": [
    {
     "data": {
      "text/plain": [
       "Timestamp('2017-01-05 00:00:00')"
      ]
     },
     "execution_count": 17,
     "metadata": {},
     "output_type": "execute_result"
    }
   ],
   "source": [
    "# Custom Date Format\n",
    "\n",
    "pd.to_datetime('5$1$2017', format='%d$%m$%Y')"
   ]
  },
  {
   "cell_type": "code",
   "execution_count": 19,
   "id": "3da45491",
   "metadata": {},
   "outputs": [
    {
     "data": {
      "text/plain": [
       "Index(['2017-01-05', 'Jan 5, 2017', '01/05/2017', '2017.01.05', '2017/01/05',\n",
       "       '20170105', 'abc'],\n",
       "      dtype='object')"
      ]
     },
     "execution_count": 19,
     "metadata": {},
     "output_type": "execute_result"
    }
   ],
   "source": [
    "# Handling error and garbage string\n",
    "\n",
    "dates = ['2017-01-05','Jan 5, 2017','01/05/2017','2017.01.05','2017/01/05','20170105','abc']\n",
    "pd.to_datetime(dates, errors='ignore')"
   ]
  },
  {
   "cell_type": "code",
   "execution_count": 21,
   "id": "b9f051b2",
   "metadata": {},
   "outputs": [
    {
     "data": {
      "text/plain": [
       "DatetimeIndex(['2017-01-05', '2017-01-05', '2017-01-05', '2017-01-05',\n",
       "               '2017-01-05', '2017-01-05',        'NaT'],\n",
       "              dtype='datetime64[ns]', freq=None)"
      ]
     },
     "execution_count": 21,
     "metadata": {},
     "output_type": "execute_result"
    }
   ],
   "source": [
    "dates = ['2017-01-05','Jan 5, 2017','01/05/2017','2017.01.05','2017/01/05','20170105','abc']\n",
    "pd.to_datetime(dates, errors='coerce')"
   ]
  },
  {
   "cell_type": "code",
   "execution_count": 25,
   "id": "e0a11ec5",
   "metadata": {},
   "outputs": [
    {
     "data": {
      "text/plain": [
       "Timestamp('2022-05-18 07:50:14')"
      ]
     },
     "execution_count": 25,
     "metadata": {},
     "output_type": "execute_result"
    }
   ],
   "source": [
    "t = 1652860214\n",
    "pd.to_datetime(t, unit='s')"
   ]
  },
  {
   "cell_type": "code",
   "execution_count": 29,
   "id": "1dca4359",
   "metadata": {},
   "outputs": [
    {
     "data": {
      "text/plain": [
       "DatetimeIndex(['2022-05-18 07:50:14'], dtype='datetime64[ns]', freq=None)"
      ]
     },
     "execution_count": 29,
     "metadata": {},
     "output_type": "execute_result"
    }
   ],
   "source": [
    "dt = pd.to_datetime([t], unit='s')\n",
    "dt"
   ]
  },
  {
   "cell_type": "code",
   "execution_count": 31,
   "id": "27509e78",
   "metadata": {},
   "outputs": [
    {
     "data": {
      "text/plain": [
       "array([1652860214000000000], dtype=int64)"
      ]
     },
     "execution_count": 31,
     "metadata": {},
     "output_type": "execute_result"
    }
   ],
   "source": [
    "dt.view('int64')"
   ]
  }
 ],
 "metadata": {
  "kernelspec": {
   "display_name": "Python 3 (ipykernel)",
   "language": "python",
   "name": "python3"
  },
  "language_info": {
   "codemirror_mode": {
    "name": "ipython",
    "version": 3
   },
   "file_extension": ".py",
   "mimetype": "text/x-python",
   "name": "python",
   "nbconvert_exporter": "python",
   "pygments_lexer": "ipython3",
   "version": "3.9.7"
  }
 },
 "nbformat": 4,
 "nbformat_minor": 5
}
