{
 "cells": [
  {
   "cell_type": "code",
   "execution_count": 28,
   "id": "91899c40",
   "metadata": {},
   "outputs": [],
   "source": [
    "import numpy as np"
   ]
  },
  {
   "cell_type": "code",
   "execution_count": 29,
   "id": "cde2ecd5",
   "metadata": {},
   "outputs": [
    {
     "name": "stdout",
     "output_type": "stream",
     "text": [
      "[5 6]\n",
      "7\n"
     ]
    }
   ],
   "source": [
    "# Slicing and Indexing\n",
    "a = np.array([5,6,7])\n",
    "print(a[0:2])\n",
    "print(a[-1])"
   ]
  },
  {
   "cell_type": "code",
   "execution_count": 30,
   "id": "8be57ed1",
   "metadata": {},
   "outputs": [
    {
     "name": "stdout",
     "output_type": "stream",
     "text": [
      "[[ 5  6  7]\n",
      " [ 2  6  4]\n",
      " [11 15 78]]\n",
      "4\n",
      "[11 15 78]\n",
      "[2 6]\n"
     ]
    }
   ],
   "source": [
    "a2 = np.array([[5,6,7],[2,6,4],[11,15,78]])\n",
    "print(a2)\n",
    "print(a2[1,2])  #row 1 and column 2\n",
    "print(a2[-1])\n",
    "print(a2[-2,0:2])"
   ]
  },
  {
   "cell_type": "code",
   "execution_count": 31,
   "id": "c3debde1",
   "metadata": {},
   "outputs": [
    {
     "name": "stdout",
     "output_type": "stream",
     "text": [
      "[[ 6  7]\n",
      " [ 6  4]\n",
      " [15 78]]\n"
     ]
    }
   ],
   "source": [
    "print(a2[:,1:3]) # only : will consider all rows"
   ]
  },
  {
   "cell_type": "code",
   "execution_count": 33,
   "id": "a19d8509",
   "metadata": {},
   "outputs": [
    {
     "name": "stdout",
     "output_type": "stream",
     "text": [
      "[[0 1]\n",
      " [2 3]\n",
      " [4 5]]\n",
      "[[ 6  7]\n",
      " [ 8  9]\n",
      " [10 11]]\n"
     ]
    },
    {
     "data": {
      "text/plain": [
       "array([[ 0,  1,  6,  7],\n",
       "       [ 2,  3,  8,  9],\n",
       "       [ 4,  5, 10, 11]])"
      ]
     },
     "execution_count": 33,
     "metadata": {},
     "output_type": "execute_result"
    }
   ],
   "source": [
    "# Stacking\n",
    "a = np.arange(6).reshape(3,2)\n",
    "b = np.arange(6,12).reshape(3,2)\n",
    "print(a)\n",
    "print(b)\n",
    "\n",
    "np.vstack((a,b))\n",
    "np.hstack((a,b))"
   ]
  },
  {
   "cell_type": "code",
   "execution_count": 40,
   "id": "85c7899b",
   "metadata": {},
   "outputs": [
    {
     "name": "stdout",
     "output_type": "stream",
     "text": [
      "[[ 0  1  2  3  4  5  6  7  8  9 10 11 12 13 14]\n",
      " [15 16 17 18 19 20 21 22 23 24 25 26 27 28 29]]\n",
      "[array([[ 0,  1,  2,  3,  4],\n",
      "       [15, 16, 17, 18, 19]]), array([[ 5,  6,  7,  8,  9],\n",
      "       [20, 21, 22, 23, 24]]), array([[10, 11, 12, 13, 14],\n",
      "       [25, 26, 27, 28, 29]])]\n",
      "[[ 0  1  2  3  4]\n",
      " [15 16 17 18 19]]\n",
      "[[ 5  6  7  8  9]\n",
      " [20 21 22 23 24]]\n",
      "[[10 11 12 13 14]\n",
      " [25 26 27 28 29]]\n",
      "[[ 0  1  2  3  4  5  6  7  8  9 10 11 12 13 14]]\n",
      "[[15 16 17 18 19 20 21 22 23 24 25 26 27 28 29]]\n"
     ]
    }
   ],
   "source": [
    "# Spliting\n",
    "\n",
    "a = np.arange(30).reshape(2,15)\n",
    "print(a)\n",
    "\n",
    "result = np.hsplit(a,3)\n",
    "print(result)\n",
    "\n",
    "for r in result:\n",
    "    print(r)\n",
    "    \n",
    "result = np.vsplit(a,2)\n",
    "\n",
    "for r in result:\n",
    "    print(r)"
   ]
  },
  {
   "cell_type": "code",
   "execution_count": 44,
   "id": "e027890e",
   "metadata": {},
   "outputs": [
    {
     "name": "stdout",
     "output_type": "stream",
     "text": [
      "[[0 1 2 3 4]\n",
      " [5 6 7 8 9]]\n",
      "[[False False False False False]\n",
      " [ True  True  True  True  True]]\n",
      "[5 6 7 8 9]\n",
      "[[ 0  1  2  3  4]\n",
      " [99 99 99 99 99]]\n"
     ]
    }
   ],
   "source": [
    "# Indexing with boolean array\n",
    "\n",
    "a = np.arange(10).reshape(2,5)\n",
    "print(a)\n",
    "\n",
    "b = a>4\n",
    "print(b)\n",
    "\n",
    "print(a[b])\n",
    "\n",
    "a[b] = 99\n",
    "print(a)"
   ]
  }
 ],
 "metadata": {
  "kernelspec": {
   "display_name": "Python 3 (ipykernel)",
   "language": "python",
   "name": "python3"
  },
  "language_info": {
   "codemirror_mode": {
    "name": "ipython",
    "version": 3
   },
   "file_extension": ".py",
   "mimetype": "text/x-python",
   "name": "python",
   "nbconvert_exporter": "python",
   "pygments_lexer": "ipython3",
   "version": "3.9.7"
  }
 },
 "nbformat": 4,
 "nbformat_minor": 5
}
